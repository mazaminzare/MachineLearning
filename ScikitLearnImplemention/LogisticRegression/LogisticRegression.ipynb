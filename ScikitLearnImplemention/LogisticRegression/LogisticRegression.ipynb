{
 "cells": [
  {
   "cell_type": "code",
   "execution_count": 1,
   "outputs": [],
   "source": [
    "import pandas as pd\n",
    "from sklearn import datasets\n",
    "from sklearn.linear_model import LogisticRegression\n",
    "from sklearn.model_selection import train_test_split\n",
    "from sklearn.preprocessing import StandardScaler\n",
    "from torchmetrics import Accuracy, F1Score, Precision, Recall, Specificity\n",
    "import torch\n",
    "from sklearn.metrics import log_loss\n"
   ],
   "metadata": {
    "collapsed": false,
    "pycharm": {
     "name": "#%%\n"
    }
   }
  },
  {
   "cell_type": "code",
   "execution_count": 2,
   "outputs": [],
   "source": [
    "def metrics(targets, predictions, number_of_classes, module_type='Train'):\n",
    "    precision = Precision(task=\"multiclass\", average='macro', num_classes=number_of_classes)\n",
    "    recall = Recall(task=\"multiclass\", average='macro', num_classes=number_of_classes)\n",
    "    f_measure = F1Score(task=\"multiclass\", average='macro', num_classes=number_of_classes)\n",
    "    specificity = Specificity(task=\"multiclass\", average='macro', num_classes=number_of_classes)\n",
    "    accuracy = Accuracy(task=\"multiclass\", average='macro', num_classes=number_of_classes)\n",
    "    targets, predictions = torch.tensor(targets), torch.tensor(predictions)\n",
    "    precision_score = precision(predictions, targets).numpy().reshape(-1)[0]\n",
    "    recall_score = recall(predictions, targets).numpy().reshape(-1)[0]\n",
    "    f_measure_score = f_measure(predictions, targets).numpy().reshape(-1)[0]\n",
    "    specificity_score = specificity(predictions, targets).numpy().reshape(-1)[0]\n",
    "    Accuracy_score = accuracy(predictions, targets).numpy().reshape(-1)[0]\n",
    "\n",
    "    metric_results = {\n",
    "        \"Precision\": precision_score,\n",
    "        \"recall\": recall_score,\n",
    "        \"FMeasure\": f_measure_score,\n",
    "        \"Specificity\": specificity_score,\n",
    "        \"Accuracy\": Accuracy_score,\n",
    "    }\n",
    "    return pd.DataFrame.from_dict(metric_results, orient=\"index\", columns=[module_type])"
   ],
   "metadata": {
    "collapsed": false,
    "pycharm": {
     "name": "#%%\n"
    }
   }
  },
  {
   "cell_type": "code",
   "execution_count": 3,
   "outputs": [],
   "source": [
    "# Load and Normalize data\n",
    "\n",
    "dataset = datasets.load_iris(as_frame=True)['data']\n",
    "target = datasets.load_iris(as_frame=True)['target'].values\n",
    "\n",
    "X_train, X_test, y_train, y_test = train_test_split(\n",
    "    dataset, target, test_size=0.2, random_state=1, shuffle=True)\n",
    "\n",
    "number_of_classes = 3\n",
    "\n",
    "scaler = StandardScaler()\n",
    "X_train_scaled = scaler.fit_transform(X_train)\n",
    "X_test_scaled = scaler.transform(X_test)"
   ],
   "metadata": {
    "collapsed": false,
    "pycharm": {
     "name": "#%%\n"
    }
   }
  },
  {
   "cell_type": "code",
   "execution_count": 4,
   "outputs": [],
   "source": [
    "LRModel = LogisticRegression(random_state=0).fit(X_train_scaled, y_train)\n",
    "\n",
    "y_train_output = LRModel.predict(X_train_scaled)\n",
    "y_test_output = LRModel.predict(X_test_scaled)"
   ],
   "metadata": {
    "collapsed": false,
    "pycharm": {
     "name": "#%%\n"
    }
   }
  },
  {
   "cell_type": "code",
   "execution_count": 5,
   "outputs": [
    {
     "name": "stdout",
     "output_type": "stream",
     "text": [
      "train log loss :0.1446540806101643,\n",
      "test log loss: 0.15406257484007455 \n"
     ]
    }
   ],
   "source": [
    "train_out_prob = LRModel.predict_proba(X_train_scaled)\n",
    "test_out_prob = LRModel.predict_proba(X_test_scaled)\n",
    "train_logloss = log_loss(y_train, train_out_prob)\n",
    "test_logloss = log_loss(y_test, test_out_prob)\n",
    "print(f'train log loss :{train_logloss},\\ntest log loss: {test_logloss} ')"
   ],
   "metadata": {
    "collapsed": false,
    "pycharm": {
     "name": "#%%\n"
    }
   }
  },
  {
   "cell_type": "code",
   "execution_count": 6,
   "outputs": [
    {
     "name": "stdout",
     "output_type": "stream",
     "text": [
      "                Train      Test\n",
      "Precision    0.975926  0.952381\n",
      "recall       0.974406  0.974359\n",
      "FMeasure     0.975065  0.961026\n",
      "Specificity  0.987212  0.986111\n",
      "Accuracy     0.974406  0.974359\n"
     ]
    }
   ],
   "source": [
    "module_type = ['Train', 'Test']\n",
    "train_metric = metrics(y_train, y_train_output, number_of_classes, module_type=module_type[0])\n",
    "test_metric = metrics(y_test, y_test_output, number_of_classes, module_type=module_type[1])\n",
    "\n",
    "print(pd.concat([train_metric, test_metric], axis=1))"
   ],
   "metadata": {
    "collapsed": false,
    "pycharm": {
     "name": "#%%\n"
    }
   }
  }
 ],
 "metadata": {
  "kernelspec": {
   "display_name": "Python 3",
   "language": "python",
   "name": "python3"
  },
  "language_info": {
   "codemirror_mode": {
    "name": "ipython",
    "version": 2
   },
   "file_extension": ".py",
   "mimetype": "text/x-python",
   "name": "python",
   "nbconvert_exporter": "python",
   "pygments_lexer": "ipython2",
   "version": "2.7.6"
  }
 },
 "nbformat": 4,
 "nbformat_minor": 0
}