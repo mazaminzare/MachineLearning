{
 "cells": [
  {
   "cell_type": "code",
   "execution_count": 29,
   "metadata": {
    "collapsed": true,
    "ExecuteTime": {
     "start_time": "2023-04-24T09:07:26.253844Z",
     "end_time": "2023-04-24T09:07:26.270661Z"
    }
   },
   "outputs": [],
   "source": [
    "import numpy as np\n",
    "from sklearn import datasets\n",
    "from sklearn.model_selection import train_test_split"
   ]
  },
  {
   "cell_type": "code",
   "execution_count": 30,
   "outputs": [],
   "source": [
    "\n",
    "class NaiveBayes:\n",
    "    def fit(self, X, y):\n",
    "        # get number of samples (rows) and features (columns)\n",
    "        self.n_samples, self.n_features = X.shape\n",
    "        # get number of uniques classes\n",
    "        self.n_classes = len(np.unique(y))\n",
    "        # create three zero-matrices to store summary stats & prior\n",
    "        self.mean = np.zeros((self.n_classes, self.n_features))\n",
    "        self.variance = np.zeros((self.n_classes, self.n_features))\n",
    "        self.priors = np.zeros(self.n_classes)\n",
    "\n",
    "        for c in range(self.n_classes):\n",
    "            # create a subset of data for the specific class 'c'\n",
    "            X_c = X[y == c]\n",
    "            # calculate statistics and update zero-matrices, rows=classes, cols=features\n",
    "            self.mean[c, :] = np.mean(X_c, axis=0)\n",
    "            self.variance[c, :] = np.var(X_c, axis=0)\n",
    "            self.priors[c] = X_c.shape[0] / self.n_samples\n",
    "\n",
    "    def predict(self, X):\n",
    "        # for each sample x in the dataset X\n",
    "        y_hat = [self.get_class_probability(x) for x in X]\n",
    "        return np.array(y_hat)\n",
    "\n",
    "    def get_class_probability(self, X):\n",
    "        # store new posteriors for each class in a single list\n",
    "        posteriors = list()\n",
    "\n",
    "        for c in range(self.n_classes):\n",
    "            # get summary stats & prior\n",
    "            mean = self.mean[c]\n",
    "            variance = self.variance[c]\n",
    "            prior = np.log(self.priors[c])\n",
    "            # calculate new posterior & append to list\n",
    "\n",
    "            posterior = np.sum(np.log(self.gaussian_density(X, mean, variance)))\n",
    "            posterior = prior + posterior\n",
    "            posteriors.append(posterior)\n",
    "\n",
    "        return np.argmax(posteriors)\n",
    "\n",
    "    def gaussian_density(self, X, mean, var):\n",
    "        # implementation of gaussian density function\n",
    "        const = 1 / np.sqrt(var * 2 * np.pi)\n",
    "        proba = np.exp(-0.5 * ((X - mean) ** 2 / var))\n",
    "\n",
    "        return const * proba\n",
    "\n",
    "\n",
    "# helper function to calculate accuracy\n",
    "def get_accuracy(y_true, y_hat):\n",
    "    return np.sum(y_true == y_hat) / len(y_true)\n"
   ],
   "metadata": {
    "collapsed": false,
    "ExecuteTime": {
     "start_time": "2023-04-24T09:07:26.270661Z",
     "end_time": "2023-04-24T09:07:26.286316Z"
    }
   }
  },
  {
   "cell_type": "code",
   "execution_count": 31,
   "outputs": [],
   "source": [
    "# Load Dataset\n",
    "def load_iris_data():\n",
    "    # load iris dataset\n",
    "    iris = datasets.load_iris()\n",
    "    X = iris.data\n",
    "    y = iris.target\n",
    "    # split into train and test data\n",
    "    X_train, X_test, y_train, y_test = train_test_split(X, y, test_size=0.2, random_state=1)\n",
    "    return X_train, X_test, y_train, y_test\n",
    "\n",
    "\n",
    "X_train, X_test, y_train, y_test = load_iris_data()"
   ],
   "metadata": {
    "collapsed": false,
    "ExecuteTime": {
     "start_time": "2023-04-24T09:07:26.286316Z",
     "end_time": "2023-04-24T09:07:26.301933Z"
    }
   }
  },
  {
   "cell_type": "code",
   "execution_count": 32,
   "outputs": [
    {
     "name": "stdout",
     "output_type": "stream",
     "text": [
      "Naive Bayes Train Accuracy:  0.95\n",
      "Naive Bayes Test Accuracy:  0.9666666666666667\n"
     ]
    }
   ],
   "source": [
    "nb = NaiveBayes()\n",
    "nb.fit(X_train, y_train)\n",
    "train_predictions = nb.predict(X_train)\n",
    "test_predictions = nb.predict(X_test)\n",
    "\n",
    "# print results\n",
    "print('Naive Bayes Train Accuracy: ', get_accuracy(y_train, train_predictions))\n",
    "print('Naive Bayes Test Accuracy: ', get_accuracy(y_test, test_predictions))"
   ],
   "metadata": {
    "collapsed": false,
    "ExecuteTime": {
     "start_time": "2023-04-24T09:07:26.301933Z",
     "end_time": "2023-04-24T09:07:26.348805Z"
    }
   }
  }
 ],
 "metadata": {
  "kernelspec": {
   "display_name": "Python 3",
   "language": "python",
   "name": "python3"
  },
  "language_info": {
   "codemirror_mode": {
    "name": "ipython",
    "version": 2
   },
   "file_extension": ".py",
   "mimetype": "text/x-python",
   "name": "python",
   "nbconvert_exporter": "python",
   "pygments_lexer": "ipython2",
   "version": "2.7.6"
  }
 },
 "nbformat": 4,
 "nbformat_minor": 0
}
