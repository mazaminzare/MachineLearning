{
 "cells": [
  {
   "cell_type": "markdown",
   "source": [],
   "metadata": {
    "collapsed": false,
    "pycharm": {
     "name": "#%% md\n"
    }
   }
  },
  {
   "cell_type": "code",
   "execution_count": 27,
   "metadata": {
    "collapsed": true,
    "pycharm": {
     "name": "#%%\n"
    }
   },
   "outputs": [],
   "source": [
    "import pandas as pd\n",
    "from sklearn import datasets\n",
    "from sklearn.model_selection import train_test_split\n",
    "from sklearn import tree\n",
    "from torchmetrics import Accuracy, F1Score, Precision, Recall, Specificity\n",
    "import torch\n",
    "from sklearn.metrics import log_loss"
   ]
  },
  {
   "cell_type": "code",
   "execution_count": 28,
   "outputs": [],
   "source": [
    "def metrics(targets, predictions,number_of_classes, module_type='Train'):\n",
    "    precision = Precision(task=\"multiclass\", average='macro', num_classes=number_of_classes)\n",
    "    recall = Recall(task=\"multiclass\", average='macro', num_classes=number_of_classes)\n",
    "    f_measure = F1Score(task=\"multiclass\", average='macro', num_classes=number_of_classes)\n",
    "    specificity = Specificity(task=\"multiclass\", average='macro', num_classes=number_of_classes)\n",
    "    accuracy = Accuracy(task=\"multiclass\", average='macro', num_classes=number_of_classes)\n",
    "    targets, predictions = torch.tensor(targets), torch.tensor(predictions)\n",
    "    precision_score = precision(predictions, targets).numpy().reshape(-1)[0]\n",
    "    recall_score = recall(predictions, targets).numpy().reshape(-1)[0]\n",
    "    f_measure_score = f_measure(predictions, targets).numpy().reshape(-1)[0]\n",
    "    specificity_score = specificity(predictions, targets).numpy().reshape(-1)[0]\n",
    "    Accuracy_score = accuracy(predictions, targets).numpy().reshape(-1)[0]\n",
    "\n",
    "    metric_results = {\n",
    "        \"Precision\": precision_score,\n",
    "        \"recall\": recall_score,\n",
    "        \"FMeasure\": f_measure_score,\n",
    "        \"Specificity\": specificity_score,\n",
    "        \"Accuracy\": Accuracy_score,\n",
    "    }\n",
    "    return pd.DataFrame.from_dict(metric_results, orient=\"index\", columns=[module_type])"
   ],
   "metadata": {
    "collapsed": false,
    "pycharm": {
     "name": "#%%\n"
    }
   }
  },
  {
   "cell_type": "code",
   "execution_count": 29,
   "outputs": [
    {
     "name": "stdout",
     "output_type": "stream",
     "text": [
      "   sepal length (cm)  sepal width (cm)  petal length (cm)  petal width (cm)\n",
      "0                5.1               3.5                1.4               0.2\n",
      "1                4.9               3.0                1.4               0.2\n",
      "2                4.7               3.2                1.3               0.2\n",
      "3                4.6               3.1                1.5               0.2\n",
      "4                5.0               3.6                1.4               0.2\n",
      "       sepal length (cm)  sepal width (cm)  petal length (cm)  \\\n",
      "count         150.000000        150.000000         150.000000   \n",
      "mean            5.843333          3.057333           3.758000   \n",
      "std             0.828066          0.435866           1.765298   \n",
      "min             4.300000          2.000000           1.000000   \n",
      "25%             5.100000          2.800000           1.600000   \n",
      "50%             5.800000          3.000000           4.350000   \n",
      "75%             6.400000          3.300000           5.100000   \n",
      "max             7.900000          4.400000           6.900000   \n",
      "\n",
      "       petal width (cm)  \n",
      "count        150.000000  \n",
      "mean           1.199333  \n",
      "std            0.762238  \n",
      "min            0.100000  \n",
      "25%            0.300000  \n",
      "50%            1.300000  \n",
      "75%            1.800000  \n",
      "max            2.500000  \n"
     ]
    }
   ],
   "source": [
    "dataset = datasets.load_iris(as_frame=True)['data']\n",
    "target = datasets.load_iris(as_frame=True)['target'].values\n",
    "print(dataset.head(5))\n",
    "print(dataset.describe())\n",
    "\n",
    "X_train, X_test, y_train, y_test = train_test_split(\n",
    "    dataset, target, test_size=0.2, random_state=1, shuffle=True)\n",
    "\n",
    "number_of_classes = 3"
   ],
   "metadata": {
    "collapsed": false,
    "pycharm": {
     "name": "#%%\n"
    }
   }
  },
  {
   "cell_type": "code",
   "execution_count": 30,
   "outputs": [
    {
     "data": {
      "text/plain": "[Text(0.4, 0.9166666666666666, 'x[2] <= 2.6\\ngini = 0.665\\nsamples = 120\\nvalue = [39, 37, 44]'),\n Text(0.3, 0.75, 'gini = 0.0\\nsamples = 39\\nvalue = [39, 0, 0]'),\n Text(0.5, 0.75, 'x[3] <= 1.65\\ngini = 0.496\\nsamples = 81\\nvalue = [0, 37, 44]'),\n Text(0.2, 0.5833333333333334, 'x[2] <= 4.95\\ngini = 0.18\\nsamples = 40\\nvalue = [0, 36, 4]'),\n Text(0.1, 0.4166666666666667, 'gini = 0.0\\nsamples = 35\\nvalue = [0, 35, 0]'),\n Text(0.3, 0.4166666666666667, 'x[0] <= 6.05\\ngini = 0.32\\nsamples = 5\\nvalue = [0, 1, 4]'),\n Text(0.2, 0.25, 'x[1] <= 2.45\\ngini = 0.5\\nsamples = 2\\nvalue = [0, 1, 1]'),\n Text(0.1, 0.08333333333333333, 'gini = 0.0\\nsamples = 1\\nvalue = [0, 0, 1]'),\n Text(0.3, 0.08333333333333333, 'gini = 0.0\\nsamples = 1\\nvalue = [0, 1, 0]'),\n Text(0.4, 0.25, 'gini = 0.0\\nsamples = 3\\nvalue = [0, 0, 3]'),\n Text(0.8, 0.5833333333333334, 'x[2] <= 4.85\\ngini = 0.048\\nsamples = 41\\nvalue = [0, 1, 40]'),\n Text(0.7, 0.4166666666666667, 'x[1] <= 3.1\\ngini = 0.375\\nsamples = 4\\nvalue = [0, 1, 3]'),\n Text(0.6, 0.25, 'gini = 0.0\\nsamples = 3\\nvalue = [0, 0, 3]'),\n Text(0.8, 0.25, 'gini = 0.0\\nsamples = 1\\nvalue = [0, 1, 0]'),\n Text(0.9, 0.4166666666666667, 'gini = 0.0\\nsamples = 37\\nvalue = [0, 0, 37]')]"
     },
     "execution_count": 30,
     "metadata": {},
     "output_type": "execute_result"
    },
    {
     "data": {
      "text/plain": "<Figure size 432x288 with 1 Axes>",
      "image/png": "[encoded data removed]"
     },
     "metadata": {
      "needs_background": "light"
     },
     "output_type": "display_data"
    }
   ],
   "source": [
    "DTModel = tree.DecisionTreeClassifier(max_depth=10, min_samples_split=2).fit(X_train, y_train)\n",
    "y_train_output = DTModel.predict(X_train)\n",
    "y_test_output = DTModel.predict(X_test)\n",
    "tree.plot_tree(DTModel)"
   ],
   "metadata": {
    "collapsed": false,
    "pycharm": {
     "name": "#%%\n"
    }
   }
  },
  {
   "cell_type": "code",
   "execution_count": 31,
   "outputs": [
    {
     "name": "stdout",
     "output_type": "stream",
     "text": [
      "train log loss :4.440892098500627e-16,\n",
      "test log loss: 1.201455112970572 \n"
     ]
    }
   ],
   "source": [
    "train_out_prob = DTModel.predict_proba(X_train)\n",
    "test_out_prob = DTModel.predict_proba(X_test)\n",
    "train_logloss = log_loss(y_train, train_out_prob)\n",
    "test_logloss = log_loss(y_test, test_out_prob)\n",
    "print(f'train log loss :{train_logloss},\\ntest log loss: {test_logloss} ')"
   ],
   "metadata": {
    "collapsed": false,
    "pycharm": {
     "name": "#%%\n"
    }
   }
  },
  {
   "cell_type": "code",
   "execution_count": 32,
   "outputs": [
    {
     "data": {
      "text/plain": "             Train      Test\nPrecision      1.0  0.952381\nrecall         1.0  0.974359\nFMeasure       1.0  0.961026\nSpecificity    1.0  0.986111\nAccuracy       1.0  0.974359",
      "text/html": "<div>\n<style scoped>\n    .dataframe tbody tr th:only-of-type {\n        vertical-align: middle;\n    }\n\n    .dataframe tbody tr th {\n        vertical-align: top;\n    }\n\n    .dataframe thead th {\n        text-align: right;\n    }\n</style>\n<table border=\"1\" class=\"dataframe\">\n  <thead>\n    <tr style=\"text-align: right;\">\n      <th></th>\n      <th>Train</th>\n      <th>Test</th>\n    </tr>\n  </thead>\n  <tbody>\n    <tr>\n      <th>Precision</th>\n      <td>1.0</td>\n      <td>0.952381</td>\n    </tr>\n    <tr>\n      <th>recall</th>\n      <td>1.0</td>\n      <td>0.974359</td>\n    </tr>\n    <tr>\n      <th>FMeasure</th>\n      <td>1.0</td>\n      <td>0.961026</td>\n    </tr>\n    <tr>\n      <th>Specificity</th>\n      <td>1.0</td>\n      <td>0.986111</td>\n    </tr>\n    <tr>\n      <th>Accuracy</th>\n      <td>1.0</td>\n      <td>0.974359</td>\n    </tr>\n  </tbody>\n</table>\n</div>"
     },
     "execution_count": 32,
     "metadata": {},
     "output_type": "execute_result"
    }
   ],
   "source": [
    "module_type = ['Train', 'Test']\n",
    "train_metric = metrics(y_train, y_train_output,number_of_classes, module_type=module_type[0])\n",
    "test_metric = metrics(y_test, y_test_output,number_of_classes, module_type=module_type[1])\n",
    "pd.concat([train_metric, test_metric], axis=1)"
   ],
   "metadata": {
    "collapsed": false,
    "pycharm": {
     "name": "#%%\n"
    }
   }
  }
 ],
 "metadata": {
  "kernelspec": {
   "display_name": "Python 3",
   "language": "python",
   "name": "python3"
  },
  "language_info": {
   "codemirror_mode": {
    "name": "ipython",
    "version": 2
   },
   "file_extension": ".py",
   "mimetype": "text/x-python",
   "name": "python",
   "nbconvert_exporter": "python",
   "pygments_lexer": "ipython2",
   "version": "2.7.6"
  }
 },
 "nbformat": 4,
 "nbformat_minor": 0
}